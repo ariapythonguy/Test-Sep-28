{
  "nbformat": 4,
  "nbformat_minor": 0,
  "metadata": {
    "colab": {
      "provenance": [],
      "authorship_tag": "ABX9TyN0iboOCGh3/JCrmFqnKOm0",
      "include_colab_link": true
    },
    "kernelspec": {
      "name": "python3",
      "display_name": "Python 3"
    },
    "language_info": {
      "name": "python"
    }
  },
  "cells": [
    {
      "cell_type": "markdown",
      "metadata": {
        "id": "view-in-github",
        "colab_type": "text"
      },
      "source": [
        "<a href=\"https://colab.research.google.com/github/ariapythonguy/Test-Sep-28/blob/main/PDFCoffeeExtract.ipynb\" target=\"_parent\"><img src=\"https://colab.research.google.com/assets/colab-badge.svg\" alt=\"Open In Colab\"/></a>"
      ]
    },
    {
      "cell_type": "code",
      "execution_count": 4,
      "metadata": {
        "id": "vs22sKCy0umC",
        "colab": {
          "base_uri": "https://localhost:8080/",
          "height": 748
        },
        "outputId": "9cfb6f6d-25ad-413c-ab31-0d7d2c8453fc"
      },
      "outputs": [
        {
          "output_type": "stream",
          "name": "stdout",
          "text": [
            "                                  Email        Mobile No First Name Last Name  \\\n",
            "0                                  None             None      Email    Mobile   \n",
            "1               a.atef@hammocktours.com  666666666666666      Abdel   Hammock   \n",
            "2           booking.legendhtl@gmail.com     919830300921    MONTOSH    SARKAR   \n",
            "3                  asmipvtltd@gmail.com       9167324708  Siddharth  Padamshi   \n",
            "4         satbir@pyramidtravelindia.com       9987780874     Satbir     Singh   \n",
            "5                 shan@shanholidays.com      94773152452    Krishan    Steven   \n",
            "6              preety.pranali@gmail.com     912243558333       None      None   \n",
            "7                nabil@ameelytravel.com   00201110066227      Nabil   Hifnawy   \n",
            "8               josh.ziegler@zumata.com       6598378456       Josh   Ziegler   \n",
            "9           seasonedtraveller@gmail.com       9820323088     Sameet  Chhabria   \n",
            "10  member@incrediblevacationsindia.com       9820053732    Kailash     Padhy   \n",
            "11        ashokadreamholidays@gmail.com       9892118498      Anshu    Tejuja   \n",
            "12                    mail@tourguru.org       9833499974       Amod     Joshi   \n",
            "13          info@sundaypureholidays.com   00919870605550       Jyot   Jhaveri   \n",
            "14                shan@shanholidays.com    0094773152452     Steven   Krishan   \n",
            "15           bookings@anameetravels.com       9820099738       Tomy        PJ   \n",
            "16               vigneshj@etravel.co.in       9594063105      Amjad      Khan   \n",
            "17                 info@sapphirtrip.com       9029705000   Mohammad    Farrok   \n",
            "18                   charbel@ridaint.ae       9323664887    charbel      Rida   \n",
            "19             vikram@maksontravels.com             None     Vikram   Kajaria   \n",
            "\n",
            "                                 Company Name  City Contact No  \n",
            "0   No First Name Last Name Company Name City  None       None  \n",
            "1                              Tours 66666666  None       None  \n",
            "2                             Legend Holidays  None       None  \n",
            "3                            Asmi Travels & T  None       None  \n",
            "4                              Narula Pyramid  None       None  \n",
            "5                          Sebamalai Shan Hol  None       None  \n",
            "6                                        None  None       None  \n",
            "7                               Ameely Travel  None       None  \n",
            "8                             Zumata 65983784  None       None  \n",
            "9                            Seasoned Travell  None       None  \n",
            "10             le Vacations India 02266252300  None       None  \n",
            "11                           Ashoka Dream Hol  None       None  \n",
            "12                          Destination Tours  None       None  \n",
            "13                           Sunday Pure Holi  None       None  \n",
            "14                         Sebamalai Shaan Ho  None       None  \n",
            "15                   Anamee Travels and Tours  None       None  \n",
            "16                           sm LLC 042944511  None       None  \n",
            "17        Global Tourism Pvt. Ltd. 9018123513  None       None  \n",
            "18                              International  None       None  \n",
            "19                             Makson Travels  None       None  \n"
          ]
        },
        {
          "output_type": "display_data",
          "data": {
            "text/plain": [
              "<IPython.core.display.Javascript object>"
            ],
            "application/javascript": [
              "\n",
              "    async function download(id, filename, size) {\n",
              "      if (!google.colab.kernel.accessAllowed) {\n",
              "        return;\n",
              "      }\n",
              "      const div = document.createElement('div');\n",
              "      const label = document.createElement('label');\n",
              "      label.textContent = `Downloading \"${filename}\": `;\n",
              "      div.appendChild(label);\n",
              "      const progress = document.createElement('progress');\n",
              "      progress.max = size;\n",
              "      div.appendChild(progress);\n",
              "      document.body.appendChild(div);\n",
              "\n",
              "      const buffers = [];\n",
              "      let downloaded = 0;\n",
              "\n",
              "      const channel = await google.colab.kernel.comms.open(id);\n",
              "      // Send a message to notify the kernel that we're ready.\n",
              "      channel.send({})\n",
              "\n",
              "      for await (const message of channel.messages) {\n",
              "        // Send a message to notify the kernel that we're ready.\n",
              "        channel.send({})\n",
              "        if (message.buffers) {\n",
              "          for (const buffer of message.buffers) {\n",
              "            buffers.push(buffer);\n",
              "            downloaded += buffer.byteLength;\n",
              "            progress.value = downloaded;\n",
              "          }\n",
              "        }\n",
              "      }\n",
              "      const blob = new Blob(buffers, {type: 'application/binary'});\n",
              "      const a = document.createElement('a');\n",
              "      a.href = window.URL.createObjectURL(blob);\n",
              "      a.download = filename;\n",
              "      div.appendChild(a);\n",
              "      a.click();\n",
              "      div.remove();\n",
              "    }\n",
              "  "
            ]
          },
          "metadata": {}
        },
        {
          "output_type": "display_data",
          "data": {
            "text/plain": [
              "<IPython.core.display.Javascript object>"
            ],
            "application/javascript": [
              "download(\"download_7cb31a27-253f-4b64-b0b1-4862e81199f6\", \"output_contacts.csv\", 59356)"
            ]
          },
          "metadata": {}
        }
      ],
      "source": [
        " #bubble sortimport PyPDF2\n",
        " #!pip install PyPDF2 pandas\n",
        "\n",
        "#import PyPDF2\n",
        "import PyPDF2\n",
        "import pandas as pd\n",
        "import re\n",
        "\n",
        "# Function to extract text from the PDF\n",
        "def extract_text_from_pdf(pdf_path):\n",
        "    text = \"\"\n",
        "    try:\n",
        "        with open(pdf_path, \"rb\") as file:\n",
        "            reader = PyPDF2.PdfReader(file)\n",
        "            for page_num in range(len(reader.pages)):\n",
        "                page = reader.pages[page_num]\n",
        "                text += page.extract_text()\n",
        "    except Exception as e:\n",
        "        print(f\"Error reading PDF file: {e}\")\n",
        "    return text\n",
        "\n",
        "# Path to your uploaded PDF file\n",
        "pdf_path = \"/content/pdfcoffee_com_register-agents-pdf-free.pdf\"  # Ensure this matches your uploaded file name\n",
        "\n",
        "# Extract text\n",
        "pdf_text = extract_text_from_pdf(pdf_path)\n",
        "\n",
        "# Check if text extraction was successful\n",
        "if not pdf_text:\n",
        "    print(\"No text extracted from PDF.\")\n",
        "else:\n",
        "    # Define columns for the table\n",
        "    columns = [\"Email\", \"Mobile No\", \"First Name\", \"Last Name\", \"Company Name\", \"City\", \"Contact No\"]\n",
        "    data = []\n",
        "    current_contact = [None] * len(columns)\n",
        "\n",
        "    # Split text into lines\n",
        "    lines = pdf_text.split('\\n')\n",
        "    email_pattern = re.compile(r'\\b[A-Za-z0-9._%+-]+@[A-Za-z0-9.-]+\\.[A-Z|a-z]{2,}\\b')\n",
        "\n",
        "    # Parse the text and extract details\n",
        "    for line in lines:\n",
        "        email_match = email_pattern.search(line)\n",
        "        if email_match:\n",
        "            if any(current_contact):\n",
        "                data.append(current_contact)\n",
        "            current_contact = [None] * len(columns)\n",
        "            current_contact[0] = email_match.group()\n",
        "            line = email_pattern.sub('', line).strip()\n",
        "        mobile_match = re.search(r'\\b\\d{10,}\\b', line)\n",
        "        if mobile_match:\n",
        "            current_contact[1] = mobile_match.group()\n",
        "            line = line.replace(current_contact[1], '').strip()\n",
        "        parts = line.split()\n",
        "        if len(parts) >= 3:\n",
        "            if not current_contact[2]:\n",
        "                current_contact[2] = parts.pop(0)\n",
        "            if not current_contact[3]:\n",
        "                current_contact[3] = parts.pop(0)\n",
        "            current_contact[4] = ' '.join(parts)\n",
        "    if any(current_contact):\n",
        "        data.append(current_contact)\n",
        "\n",
        "    # Create a DataFrame\n",
        "    df = pd.DataFrame(data, columns=columns)\n",
        "\n",
        "    # Save to CSV\n",
        "    csv_path = \"/content/output_contacts.csv\"\n",
        "    df.to_csv(csv_path, index=False)\n",
        "\n",
        "    # Display the DataFrame\n",
        "    print(df.head(20))\n",
        "\n",
        "    # Provide link to download the CSV file\n",
        "    from google.colab import files\n",
        "    files.download(csv_path)\n",
        "\n"
      ]
    }
  ]
}